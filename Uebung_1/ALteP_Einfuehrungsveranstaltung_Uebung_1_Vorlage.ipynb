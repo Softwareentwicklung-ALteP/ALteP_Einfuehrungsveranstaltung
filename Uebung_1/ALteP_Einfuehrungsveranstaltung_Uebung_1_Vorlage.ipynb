{
 "cells": [
  {
   "cell_type": "markdown",
   "id": "8a4709c1-acf4-4df2-b8e9-ecad4a051676",
   "metadata": {},
   "source": [
    "# ALteP Einfuehrung in Python"
   ]
  },
  {
   "cell_type": "markdown",
   "id": "4240d803-b327-4e43-9b5e-5ad7a256694b",
   "metadata": {},
   "source": [
    "## Übungsbeispiel \"Collatz\":\n",
    "Collatz: ungelöstes mathematisches Problem. Einfach formuliert: \n",
    "- Beginne mit irgendeiner natürlichen Zahl n > 0\n",
    "- ist n gerade: nimm als nächste Zahl n / 2\n",
    "- ist n ungerade: nimm als nächstes 3*n + 1\n",
    "- unendlich Wiederholen mit neuer Zahl\n",
    "\n",
    "Collatz Hypothese ist, dass egal mit welcher Zahl man beginnt, die Sequenz immer in den unendlichen Zyklus 4, 2, 1 mündet"
   ]
  },
  {
   "attachments": {},
   "cell_type": "markdown",
   "id": "85f79d41-00e9-4bd0-9e5d-d90651ca2dc6",
   "metadata": {},
   "source": [
    "## Übungsbeispiel \"Monte-Carlo-Simulation\":\n",
    "\n",
    "Monte-Carlo-Simulation: stochastische Methode, welche zufällige Stichproben verwendet, um Ergebnisse in komplexen System zu approximieren.\n",
    "\n",
    "In dieser Aufgabe soll Pi approximiert werden:\n",
    "- zufällig generierte Punkte innerhalb eines Einheitsquadrats\n",
    "- Bestimmung der Anzahl der Punkte, welche innerhalb des Einheitskreises liegen \n",
    "- das Verhältnis der Punkte im Einheitskreis zur Gesamtzahl der Punkte ermöglicht eine Annäherung an den Wert von Pi\n",
    "\n",
    "$$ A_{EK} = \\frac{\\pi}{4} \\cdot D^2 $$\n",
    "$$ A_{EQ} = D^2 $$\n",
    "$$ A_{EK} = \\frac{\\pi}{4} \\cdot A_{EQ}$$\n",
    "$$ \\pi = 4 \\cdot \\frac{A_{EK}}{A_{EQ}} $$\n",
    "\n",
    "- da von gleichverteilten zufälligen Punkten ausgegangen wird, können die Anzahlen der Punkte gleich den Flächen in obiger Formel gesetzt werden ($A_{EK}$: Fläche Einheitskreis; $A_{EQ}: Fläche Einheitsquadrat$; $D$: Durchmesser)"
   ]
  },
  {
   "cell_type": "markdown",
   "id": "5ef0c946-f5a7-49ea-859a-17175ce86662",
   "metadata": {},
   "source": [
    "## List, Tuple, Set & Dictionary\n",
    "\n",
    "In Python sind Listen, Tuple, Sets und Dictionaries vier verschiedene Arten von Sammlungen, die jeweils unterschiedliche Eigenschaften und Verwendungszwecke haben:\n",
    "\n",
    "1. Listen (Lists):\n",
    "   - Listen sind geordnete Sammlungen von Objekten\n",
    "   - Die Elemente einer Liste können verändert werden (\"mutable\")\n",
    "   - Beispiel: `my_list = [1, 2, 3, 4, 5]`\n",
    "\n",
    "2. Tuple:\n",
    "   - Tuple sind ähnlich wie Listen geordnete Sammlungen von Objekten\n",
    "   - Die Elemente eines Tuple können NICHT verändert werden (\"immutable\")\n",
    "   - Tuple werden durch runde Klammern () dargestellt, wobei die Elemente durch Kommas getrennt werden\n",
    "   - Beispiel: `my_tuple = (1, 2, 3, 4, 5)`\n",
    "\n",
    "3. Sets:\n",
    "   - Sets sind ungeordnete Sammlungen von eindeutigen Elementen\n",
    "   - Sets erlauben keine doppelten Elemente, d.h. jedes Element kommt nur einmal vor\n",
    "   - Sets sind veränderlich und können Elemente hinzufügen oder entfernen\n",
    "   - Auf die Elemente eines Sets kann NICHT mittels Index zugegriffen werden\n",
    "   - Sets werden durch geschweifte Klammern {} oder mit der Funktion `set()` erstellt.\n",
    "   - Beispiel: `my_set = {1, 2, 3, 4, 5}`\n",
    "\n",
    "4. Dictionaries (Dicts):\n",
    "   - Dictionaries, oder kurz Dicts, sind ungeordnete Sammlungen von Schlüssel-Wert-Paaren\n",
    "   - Jeder Schlüssel in einem Dictionary ist eindeutig und mit einem Wert verknüpft\n",
    "   - Die Elemente in einem Dictionary können verändert werden (\"mutable\")\n",
    "   - Dicts werden durch geschweifte Klammern {} dargestellt, wobei Schlüssel und Werte durch einen Doppelpunkt getrennt sind.\n",
    "   - Beispiel: `my_dict = {\"Name\": \"John\", \"Alter\": 25, \"Stadt\": \"Berlin\"}`"
   ]
  },
  {
   "cell_type": "markdown",
   "id": "a4937663-08db-43da-a639-c66005501dee",
   "metadata": {},
   "source": [
    "## Übungsbeispiel \"Random Walk\":\n",
    "\n",
    "- es wird gestartet bei einem Punkt x, y\n",
    "- In jedem Schritt wird:\n",
    "    - x & y jeweils mit +1 oder -1 addiert\n",
    "    - die neuen Koordinaten gespeichert und mit diesen Fortgefahren\n",
    "- die Schritte werden beliebig oft wiederholt\n",
    "- das Ergebnis wird mit matplotlib geplottet"
   ]
  }
 ],
 "metadata": {
  "kernelspec": {
   "display_name": "Python 3 (ipykernel)",
   "language": "python",
   "name": "python3"
  },
  "language_info": {
   "codemirror_mode": {
    "name": "ipython",
    "version": 3
   },
   "file_extension": ".py",
   "mimetype": "text/x-python",
   "name": "python",
   "nbconvert_exporter": "python",
   "pygments_lexer": "ipython3",
   "version": "3.10.11"
  }
 },
 "nbformat": 4,
 "nbformat_minor": 5
}
